{
 "cells": [
  {
   "cell_type": "code",
   "execution_count": 63,
   "metadata": {},
   "outputs": [],
   "source": [
    "import numpy as np\n",
    "import pandas as pd\n",
    "%matplotlib inline\n",
    "import random\n",
    "from pprint import pprint\n",
    "from sklearn.metrics import accuracy_score, classification_report, confusion_matrix, f1_score\n",
    "import timeit\n",
    "import matplotlib.pyplot as plt\n",
    "from dtreefunctions import decision_tree_algorithm,decision_tree_predictions,train_test_split"
   ]
  },
  {
   "cell_type": "code",
   "execution_count": 64,
   "metadata": {},
   "outputs": [
    {
     "data": {
      "text/plain": [
       "(961, 5)"
      ]
     },
     "execution_count": 64,
     "metadata": {},
     "output_type": "execute_result"
    }
   ],
   "source": [
    "df = pd.read_csv(\"mammograph.csv\",skipinitialspace=True)\n",
    "df[\"label\"] = df.Severity\n",
    "df = df.drop(\"Severity\", axis=1)\n",
    "df = df.drop(\"BI-RADS_assessment\", axis=1) #Removed -- Non predictive\n",
    "\n",
    "column_names = []\n",
    "for column in df.columns:\n",
    "    name = column.replace(\"-\", \"_\")\n",
    "    column_names.append(name)\n",
    "df.columns = column_names\n",
    "df.columns = df.columns.str.strip()\n",
    "df.shape"
   ]
  },
  {
   "cell_type": "code",
   "execution_count": 65,
   "metadata": {},
   "outputs": [],
   "source": [
    "random.seed(0)\n",
    "train_df, test_df = train_test_split(df, test_size=0.4)"
   ]
  },
  {
   "cell_type": "code",
   "execution_count": 66,
   "metadata": {},
   "outputs": [
    {
     "name": "stdout",
     "output_type": "stream",
     "text": [
      "0.796875\n",
      "0.09385913899996012\n",
      "{'Margin = 1': [{'Age = 71': [1, 0]}, {'Shape = 4': [1, 0]}]}\n"
     ]
    }
   ],
   "source": [
    "tic=timeit.default_timer()\n",
    "tree = decision_tree_algorithm(train_df, max_depth=2)\n",
    "y_pred = decision_tree_predictions(test_df,tree)\n",
    "toc=timeit.default_timer()\n",
    "print(accuracy_score(test_df.label,y_pred))\n",
    "print(toc - tic)\n",
    "\n"
   ]
  },
  {
   "cell_type": "code",
   "execution_count": 67,
   "metadata": {},
   "outputs": [
    {
     "name": "stdout",
     "output_type": "stream",
     "text": [
      "6.663156597999659\n"
     ]
    }
   ],
   "source": [
    "tic=timeit.default_timer()\n",
    "accuracies = []\n",
    "f1score = []\n",
    "error = []\n",
    "for i in range(1,21):\n",
    "    tree = decision_tree_algorithm(train_df, max_depth=i)\n",
    "    y_pred = decision_tree_predictions(test_df,tree)\n",
    "    accuracies.append(accuracy_score(test_df.label,y_pred))\n",
    "    f1score.append(f1_score(test_df.label,y_pred,average='macro'))\n",
    "    error.append(1-accuracy_score(test_df.label,y_pred))\n",
    "toc=timeit.default_timer()\n",
    "print(toc - tic)"
   ]
  },
  {
   "cell_type": "code",
   "execution_count": 68,
   "metadata": {},
   "outputs": [],
   "source": [
    "index_accuracies = np.arange(1,21)\n",
    "column_name=[\"Accuracies\",\"f1score\",\"Error\"]\n",
    "df_result = pd.DataFrame({'Accuracies':accuracies, 'f1score':f1score,'Error':error})\n"
   ]
  },
  {
   "cell_type": "code",
   "execution_count": 70,
   "metadata": {},
   "outputs": [
    {
     "data": {
      "image/png": "[encoded data removed]",
      "text/plain": [
       "<Figure size 432x288 with 1 Axes>"
      ]
     },
     "metadata": {
      "needs_background": "light"
     },
     "output_type": "display_data"
    }
   ],
   "source": [
    "#sns.distplot(x=range(1,21),y=df_accuracies['Accuracies'], bins = 20)\n",
    "x=range(1,21)\n",
    "#x=[5,10,15,20]\n",
    "plt.plot(x,df_result[\"Accuracies\"],'r',marker='o') # 'r' is the color red\n",
    "plt.xlabel('Depth of tree')\n",
    "plt.ylabel('Accuracy Score')\n",
    "plt.title('Accuracy vs Tree Depth')\n",
    "plt.grid(True)\n",
    "plt.xticks(x)\n",
    "plt.show()"
   ]
  },
  {
   "cell_type": "code",
   "execution_count": null,
   "metadata": {},
   "outputs": [],
   "source": [
    "plt.plot(x,df_result[\"f1score\"],'r',marker='o') # 'r' is the color red\n",
    "plt.xlabel('Depth of tree')\n",
    "plt.ylabel('Accuracy Score')\n",
    "plt.title('F1score(macro) vs Tree Depth')\n",
    "plt.grid(True)\n",
    "plt.xticks(x)\n",
    "plt.show()\n",
    "\n",
    "\n",
    "plt.plot(x,df_result[\"Error\"],'r',marker='o') # 'r' is the color red\n",
    "plt.xlabel('Depth of tree')\n",
    "plt.ylabel('Error')\n",
    "plt.title('Error vs Tree Depth')\n",
    "plt.grid(True)\n",
    "plt.xticks(x)\n",
    "plt.show()"
   ]
  },
  {
   "cell_type": "code",
   "execution_count": null,
   "metadata": {},
   "outputs": [],
   "source": []
  }
 ],
 "metadata": {
  "kernelspec": {
   "display_name": "Python 3",
   "language": "python",
   "name": "python3"
  },
  "language_info": {
   "codemirror_mode": {
    "name": "ipython",
    "version": 3
   },
   "file_extension": ".py",
   "mimetype": "text/x-python",
   "name": "python",
   "nbconvert_exporter": "python",
   "pygments_lexer": "ipython3",
   "version": "3.7.3"
  }
 },
 "nbformat": 4,
 "nbformat_minor": 2
}
