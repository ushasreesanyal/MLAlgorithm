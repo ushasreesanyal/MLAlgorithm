{
 "cells": [
  {
   "cell_type": "code",
   "execution_count": 106,
   "metadata": {},
   "outputs": [],
   "source": [
    "import numpy as np\n",
    "import pandas as pd\n",
    "%matplotlib inline\n",
    "import random\n",
    "from pprint import pprint\n",
    "from sklearn.metrics import accuracy_score, classification_report, confusion_matrix, f1_score\n",
    "import timeit\n",
    "import matplotlib.pyplot as plt\n",
    "from dtreefunctions import decision_tree_algorithm,decision_tree_predictions,train_test_split\n",
    "from randomforestfunctions import random_forest_algorithm,random_forest_predictions\n",
    "from sklearn.metrics import roc_curve\n",
    "from sklearn.metrics import roc_auc_score\n"
   ]
  },
  {
   "cell_type": "code",
   "execution_count": 107,
   "metadata": {},
   "outputs": [],
   "source": [
    "df = pd.read_csv(\"breast-cancer.csv\",skipinitialspace=True)\n",
    "df[\"label\"] = df.Class\n",
    "df = df.drop(\"Class\", axis=1)\n",
    "\n",
    "df=df.replace('no-recurrence-events', 0)\n",
    "df=df.replace('recurrence-events', 1)\n",
    "\n",
    "column_names = []\n",
    "for column in df.columns:\n",
    "    name = column.replace(\"-\", \"_\")\n",
    "    column_names.append(name)\n",
    "df.columns = column_names\n"
   ]
  },
  {
   "cell_type": "code",
   "execution_count": 108,
   "metadata": {},
   "outputs": [],
   "source": [
    "random.seed(0)\n",
    "train_df, test_df = train_test_split(df, test_size=0.2)"
   ]
  },
  {
   "cell_type": "code",
   "execution_count": 109,
   "metadata": {},
   "outputs": [
    {
     "name": "stdout",
     "output_type": "stream",
     "text": [
      "RF               precision    recall  f1-score   support\n",
      "\n",
      "           0       0.89      0.71      0.79        48\n",
      "           1       0.26      0.56      0.36         9\n",
      "\n",
      "    accuracy                           0.68        57\n",
      "   macro avg       0.58      0.63      0.57        57\n",
      "weighted avg       0.80      0.68      0.72        57\n",
      "\n",
      "RF 0.6842105263157895\n",
      "RF [[34 14]\n",
      " [ 4  5]]\n",
      "DT               precision    recall  f1-score   support\n",
      "\n",
      "           0       0.92      0.76      0.83        46\n",
      "           1       0.42      0.73      0.53        11\n",
      "\n",
      "    accuracy                           0.75        57\n",
      "   macro avg       0.67      0.74      0.68        57\n",
      "weighted avg       0.82      0.75      0.78        57\n",
      "\n",
      "DT 0.7543859649122807\n",
      "DT [[35 11]\n",
      " [ 3  8]]\n"
     ]
    }
   ],
   "source": [
    "forest = random_forest_algorithm(train_df, n_trees=70, n_bootstrap=50, n_features=5, dt_max_depth=10)\n",
    "y_pred_rf = random_forest_predictions(test_df, forest)\n",
    "print(\"RF\",classification_report(y_pred_rf, test_df.label))\n",
    "print(\"RF\",accuracy_score(y_pred_rf, test_df.label))\n",
    "print(\"RF\",confusion_matrix(y_pred_rf, test_df.label))\n",
    "\n",
    "\n",
    "dtree = decision_tree_algorithm(train_df, max_depth=4)\n",
    "y_pred_dt = decision_tree_predictions(test_df,dtree)\n",
    "print(\"DT\",classification_report(y_pred_dt, test_df.label))\n",
    "print(\"DT\",accuracy_score(y_pred_dt, test_df.label))\n",
    "print(\"DT\",confusion_matrix(y_pred_dt, test_df.label))"
   ]
  },
  {
   "cell_type": "code",
   "execution_count": 79,
   "metadata": {},
   "outputs": [
    {
     "name": "stdout",
     "output_type": "stream",
     "text": [
      "RF 0.7192982456140351\n",
      "DT 0.7543859649122807\n",
      "RF 0.7368421052631579\n",
      "DT 0.7543859649122807\n",
      "RF 0.7017543859649122\n",
      "DT 0.7543859649122807\n",
      "RF 0.6842105263157895\n",
      "DT 0.7543859649122807\n",
      "RF 0.7192982456140351\n",
      "DT 0.7543859649122807\n",
      "RF 0.7192982456140351\n",
      "DT 0.7543859649122807\n",
      "RF 0.7017543859649122\n",
      "DT 0.7543859649122807\n",
      "RF 0.7192982456140351\n",
      "DT 0.7543859649122807\n",
      "RF 0.6842105263157895\n",
      "DT 0.7543859649122807\n",
      "RF 0.7192982456140351\n",
      "DT 0.7543859649122807\n"
     ]
    }
   ],
   "source": [
    "i=0\n",
    "while i<10:\n",
    "    forest = random_forest_algorithm(train_df, n_trees=70, n_bootstrap=50, n_features=8, dt_max_depth=10)\n",
    "    y_pred_rf = random_forest_predictions(test_df, forest)\n",
    "    print(\"RF\",accuracy_score(y_pred_rf, test_df.label))\n",
    "    dtree = decision_tree_algorithm(train_df, max_depth=4)\n",
    "    y_pred_dt = decision_tree_predictions(test_df,dtree)\n",
    "    print(\"DT\",accuracy_score(y_pred_dt, test_df.label))\n",
    "    i = i+1"
   ]
  },
  {
   "cell_type": "code",
   "execution_count": 93,
   "metadata": {},
   "outputs": [],
   "source": [
    "y_test = test_df.iloc[:,-1]"
   ]
  },
  {
   "cell_type": "code",
   "execution_count": 98,
   "metadata": {},
   "outputs": [
    {
     "data": {
      "text/plain": [
       "0.6315789473684211"
      ]
     },
     "execution_count": 98,
     "metadata": {},
     "output_type": "execute_result"
    }
   ],
   "source": [
    "dtree_auc = roc_auc_score(y_test, y_pred_dt)\n",
    "dtree_fpr, dtree_tpr, _ = roc_curve(y_test, y_pred_dt)\n",
    "\n",
    "\n",
    "rf_auc = roc_auc_score(y_test, y_pred_rf)\n",
    "rf_fpr, rf_tpr, _ = roc_curve(y_test, y_pred_rf)\n"
   ]
  },
  {
   "cell_type": "code",
   "execution_count": 99,
   "metadata": {},
   "outputs": [
    {
     "name": "stdout",
     "output_type": "stream",
     "text": [
      "[0.         0.05263158 1.        ] [0.         0.31578947 1.        ]\n"
     ]
    }
   ],
   "source": [
    "print(rf_fpr, rf_tpr)"
   ]
  },
  {
   "cell_type": "code",
   "execution_count": 95,
   "metadata": {},
   "outputs": [
    {
     "data": {
      "text/plain": [
       "array([[35,  3],\n",
       "       [11,  8]])"
      ]
     },
     "execution_count": 95,
     "metadata": {},
     "output_type": "execute_result"
    }
   ],
   "source": [
    "confusion_matrix(y_test, y_pred_dt)"
   ]
  },
  {
   "cell_type": "code",
   "execution_count": 96,
   "metadata": {},
   "outputs": [
    {
     "data": {
      "image/png": "[encoded data removed]",
      "text/plain": [
       "<Figure size 432x288 with 1 Axes>"
      ]
     },
     "metadata": {
      "needs_background": "light"
     },
     "output_type": "display_data"
    }
   ],
   "source": [
    "# plot the roc curve for the model\n",
    "plt.plot(dtree_fpr, dtree_tpr, marker='o', label='Random Forest')\n",
    "plt.plot(rf_fpr, rf_tpr, marker='.', label='Decision Tree')\n",
    "\n",
    "# axis labels\n",
    "plt.xlabel('False Positive Rate')\n",
    "plt.ylabel('True Positive Rate')\n",
    "# show the legend\n",
    "plt.legend()\n",
    "# show the plot\n",
    "plt.show()"
   ]
  },
  {
   "cell_type": "code",
   "execution_count": null,
   "metadata": {},
   "outputs": [],
   "source": []
  }
 ],
 "metadata": {
  "kernelspec": {
   "display_name": "Python 3",
   "language": "python",
   "name": "python3"
  },
  "language_info": {
   "codemirror_mode": {
    "name": "ipython",
    "version": 3
   },
   "file_extension": ".py",
   "mimetype": "text/x-python",
   "name": "python",
   "nbconvert_exporter": "python",
   "pygments_lexer": "ipython3",
   "version": "3.7.3"
  }
 },
 "nbformat": 4,
 "nbformat_minor": 2
}
