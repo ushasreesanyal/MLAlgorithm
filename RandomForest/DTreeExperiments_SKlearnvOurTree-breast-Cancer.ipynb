{
 "cells": [
  {
   "cell_type": "code",
   "execution_count": 28,
   "metadata": {},
   "outputs": [],
   "source": [
    "import numpy as np\n",
    "import pandas as pd\n",
    "%matplotlib inline\n",
    "import random\n",
    "from pprint import pprint\n",
    "from sklearn.metrics import accuracy_score, classification_report, confusion_matrix, f1_score\n",
    "import timeit\n",
    "import matplotlib.pyplot as plt\n",
    "import dtreefunctions\n",
    "from sklearn import tree\n",
    "from sklearn import model_selection\n",
    "import copy\n",
    "from sklearn.metrics import roc_curve\n",
    "from sklearn.metrics import roc_auc_score\n",
    "from sklearn.metrics import accuracy_score, classification_report, confusion_matrix, f1_score\n",
    "from dtreefunctions import decision_tree_algorithm,decision_tree_predictions,train_test_split"
   ]
  },
  {
   "cell_type": "code",
   "execution_count": 29,
   "metadata": {},
   "outputs": [
    {
     "data": {
      "text/html": [
       "<div>\n",
       "<style scoped>\n",
       "    .dataframe tbody tr th:only-of-type {\n",
       "        vertical-align: middle;\n",
       "    }\n",
       "\n",
       "    .dataframe tbody tr th {\n",
       "        vertical-align: top;\n",
       "    }\n",
       "\n",
       "    .dataframe thead th {\n",
       "        text-align: right;\n",
       "    }\n",
       "</style>\n",
       "<table border=\"1\" class=\"dataframe\">\n",
       "  <thead>\n",
       "    <tr style=\"text-align: right;\">\n",
       "      <th></th>\n",
       "      <th>age</th>\n",
       "      <th>menopause</th>\n",
       "      <th>tumor_size</th>\n",
       "      <th>inv_nodes</th>\n",
       "      <th>node_caps</th>\n",
       "      <th>deg_malig</th>\n",
       "      <th>breast</th>\n",
       "      <th>breast_quad</th>\n",
       "      <th>irradiat</th>\n",
       "      <th>label</th>\n",
       "    </tr>\n",
       "  </thead>\n",
       "  <tbody>\n",
       "    <tr>\n",
       "      <th>0</th>\n",
       "      <td>0</td>\n",
       "      <td>0</td>\n",
       "      <td>0</td>\n",
       "      <td>0</td>\n",
       "      <td>0</td>\n",
       "      <td>3</td>\n",
       "      <td>0</td>\n",
       "      <td>0</td>\n",
       "      <td>0</td>\n",
       "      <td>0</td>\n",
       "    </tr>\n",
       "    <tr>\n",
       "      <th>1</th>\n",
       "      <td>1</td>\n",
       "      <td>0</td>\n",
       "      <td>1</td>\n",
       "      <td>0</td>\n",
       "      <td>0</td>\n",
       "      <td>2</td>\n",
       "      <td>1</td>\n",
       "      <td>1</td>\n",
       "      <td>0</td>\n",
       "      <td>0</td>\n",
       "    </tr>\n",
       "  </tbody>\n",
       "</table>\n",
       "</div>"
      ],
      "text/plain": [
       "   age  menopause  tumor_size  inv_nodes  node_caps  deg_malig  breast  \\\n",
       "0    0          0           0          0          0          3       0   \n",
       "1    1          0           1          0          0          2       1   \n",
       "\n",
       "   breast_quad  irradiat  label  \n",
       "0            0         0      0  \n",
       "1            1         0      0  "
      ]
     },
     "execution_count": 29,
     "metadata": {},
     "output_type": "execute_result"
    }
   ],
   "source": [
    "df = pd.read_csv(\"breast-cancer.csv\")\n",
    "df[\"label\"] = df.Class\n",
    "df = df.drop(\"Class\", axis=1)\n",
    "\n",
    "column_names = []\n",
    "for column in df.columns:\n",
    "    name = column.replace(\"-\", \"_\")\n",
    "    column_names.append(name)\n",
    "df.columns = column_names\n",
    "\n",
    "CATE_FEATURES = df.iloc[:,:].select_dtypes('object').columns\n",
    "\n",
    "df=df.replace('no-recurrence-events', 0)\n",
    "df=df.replace('recurrence-events', 1)\n",
    "\n",
    "df_sklearn=copy.deepcopy(df)\n",
    "\n",
    "for i in CATE_FEATURES:\n",
    "    df_sklearn[i] = pd.factorize(df[i])[0]\n",
    "\n",
    "X=df_sklearn.drop(\"label\", axis=1)\n",
    "y=df_sklearn[\"label\"]\n",
    "df_sklearn.head(2)\n",
    "\n"
   ]
  },
  {
   "cell_type": "code",
   "execution_count": 30,
   "metadata": {},
   "outputs": [],
   "source": [
    "X_train, X_test, y_train, y_test = model_selection.train_test_split(X, y, test_size=0.33, random_state=42)"
   ]
  },
  {
   "cell_type": "code",
   "execution_count": 31,
   "metadata": {
    "scrolled": true
   },
   "outputs": [
    {
     "name": "stdout",
     "output_type": "stream",
     "text": [
      "SK learn Tree\n",
      "0.6421052631578947\n",
      "              precision    recall  f1-score   support\n",
      "\n",
      "           0       0.73      0.78      0.75        67\n",
      "           1       0.38      0.32      0.35        28\n",
      "\n",
      "    accuracy                           0.64        95\n",
      "   macro avg       0.55      0.55      0.55        95\n",
      "weighted avg       0.63      0.64      0.63        95\n",
      "\n",
      "[[52 15]\n",
      " [19  9]]\n"
     ]
    }
   ],
   "source": [
    "clf = tree.DecisionTreeClassifier()\n",
    "clf = clf.fit(X_train, y_train)\n",
    "y_pred = clf.predict(X_test)\n",
    "\n",
    "print('SK learn Tree')\n",
    "print(accuracy_score(y_test,y_pred))\n",
    "print(classification_report(y_test,y_pred))\n",
    "print(confusion_matrix(y_test,y_pred))\n",
    "\n"
   ]
  },
  {
   "cell_type": "code",
   "execution_count": 32,
   "metadata": {},
   "outputs": [
    {
     "name": "stdout",
     "output_type": "stream",
     "text": [
      "Our Tree\n",
      "0.6666666666666666\n",
      "              precision    recall  f1-score   support\n",
      "\n",
      "           0       0.67      0.94      0.78        36\n",
      "           1       0.67      0.19      0.30        21\n",
      "\n",
      "    accuracy                           0.67        57\n",
      "   macro avg       0.67      0.57      0.54        57\n",
      "weighted avg       0.67      0.67      0.60        57\n",
      "\n",
      "[[34  2]\n",
      " [17  4]]\n",
      "0.5389527458492975\n",
      "Time: 0.09118706599838333\n"
     ]
    }
   ],
   "source": [
    "tic=timeit.default_timer()\n",
    "\n",
    "train_df, test_df = dtreefunctions.train_test_split(df, test_size=0.2)\n",
    "mytree = dtreefunctions.decision_tree_algorithm(train_df, max_depth=4)\n",
    "y_pred = dtreefunctions.decision_tree_predictions(test_df,mytree)\n",
    "print('Our Tree')\n",
    "print(accuracy_score(test_df.label,y_pred))\n",
    "print(classification_report(test_df.label,y_pred))\n",
    "print(confusion_matrix(test_df.label,y_pred))\n",
    "\n",
    "print(f1_score(test_df.label,y_pred,average='macro'))\n",
    "toc=timeit.default_timer()\n",
    "print('Time:',toc - tic)    \n",
    " \n",
    "\n"
   ]
  },
  {
   "cell_type": "code",
   "execution_count": 33,
   "metadata": {},
   "outputs": [],
   "source": [
    "X_test_our = test_df.iloc[:,:-1]\n",
    "y_test_our = test_df.iloc[:,-1]\n"
   ]
  },
  {
   "cell_type": "markdown",
   "metadata": {},
   "source": [
    "index_accuracies = np.arange(1,21)\n",
    "column_name=[\"Accuracies\",\"f1score\"]\n",
    "df_result = pd.DataFrame({'Accuracies':accuracies, 'f1score':f1score})"
   ]
  },
  {
   "cell_type": "code",
   "execution_count": 34,
   "metadata": {},
   "outputs": [
    {
     "name": "stdout",
     "output_type": "stream",
     "text": [
      "Random Forest\n",
      "0.7368421052631579\n",
      "              precision    recall  f1-score   support\n",
      "\n",
      "           0       0.76      0.91      0.83        67\n",
      "           1       0.60      0.32      0.42        28\n",
      "\n",
      "    accuracy                           0.74        95\n",
      "   macro avg       0.68      0.62      0.62        95\n",
      "weighted avg       0.71      0.74      0.71        95\n",
      "\n",
      "[[61  6]\n",
      " [19  9]]\n"
     ]
    }
   ],
   "source": [
    "from sklearn.ensemble import RandomForestClassifier\n",
    "\n",
    "# Create the model with 100 trees\n",
    "model = RandomForestClassifier(n_estimators=100, \n",
    "                               bootstrap = True,\n",
    "                               max_features = 'sqrt')\n",
    "# Fit on training data\n",
    "model.fit(X_train, y_train)\n",
    "\n",
    "# Actual class predictions\n",
    "y_pred = model.predict(X_test)\n",
    "\n",
    "print('Random Forest')\n",
    "print(accuracy_score(y_test,y_pred))\n",
    "print(classification_report(y_test,y_pred))\n",
    "print(confusion_matrix(y_test,y_pred))\n"
   ]
  },
  {
   "cell_type": "code",
   "execution_count": null,
   "metadata": {},
   "outputs": [],
   "source": []
  }
 ],
 "metadata": {
  "kernelspec": {
   "display_name": "Python 3",
   "language": "python",
   "name": "python3"
  },
  "language_info": {
   "codemirror_mode": {
    "name": "ipython",
    "version": 3
   },
   "file_extension": ".py",
   "mimetype": "text/x-python",
   "name": "python",
   "nbconvert_exporter": "python",
   "pygments_lexer": "ipython3",
   "version": "3.7.3"
  }
 },
 "nbformat": 4,
 "nbformat_minor": 2
}
