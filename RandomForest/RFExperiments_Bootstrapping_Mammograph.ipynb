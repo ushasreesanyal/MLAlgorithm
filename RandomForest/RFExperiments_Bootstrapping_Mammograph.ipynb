{
 "cells": [
  {
   "cell_type": "code",
   "execution_count": 2,
   "metadata": {},
   "outputs": [],
   "source": [
    "import numpy as np\n",
    "import pandas as pd\n",
    "%matplotlib inline\n",
    "import random\n",
    "from pprint import pprint\n",
    "from sklearn.metrics import accuracy_score, classification_report, confusion_matrix, f1_score\n",
    "import timeit\n",
    "import matplotlib.pyplot as plt\n",
    "from dtreefunctions import decision_tree_algorithm,decision_tree_predictions,train_test_split\n",
    "from randomforestfunctions import random_forest_algorithm,random_forest_predictions"
   ]
  },
  {
   "cell_type": "code",
   "execution_count": 7,
   "metadata": {},
   "outputs": [],
   "source": [
    "df = pd.read_csv(\"mammograph.csv\",skipinitialspace=True)\n",
    "df[\"label\"] = df.Severity\n",
    "df = df.drop(\"Severity\", axis=1)\n",
    "df = df.drop(\"BI-RADS_assessment\", axis=1) #Removed -- Non predictive\n",
    "\n",
    "\n",
    "column_names = []\n",
    "for column in df.columns:\n",
    "    name = column.replace(\"-\", \"_\")\n",
    "    column_names.append(name)\n",
    "df.columns = column_names\n"
   ]
  },
  {
   "cell_type": "code",
   "execution_count": 8,
   "metadata": {},
   "outputs": [],
   "source": [
    "random.seed(0)\n",
    "train_df, test_df = train_test_split(df, test_size=0.2)\n"
   ]
  },
  {
   "cell_type": "code",
   "execution_count": 9,
   "metadata": {},
   "outputs": [],
   "source": [
    "forest = random_forest_algorithm(train_df, n_trees=60, n_bootstrap=20, n_features=5, dt_max_depth=10)\n"
   ]
  },
  {
   "cell_type": "code",
   "execution_count": 10,
   "metadata": {},
   "outputs": [
    {
     "data": {
      "text/plain": [
       "0.8177083333333334"
      ]
     },
     "execution_count": 10,
     "metadata": {},
     "output_type": "execute_result"
    }
   ],
   "source": [
    "predictions = random_forest_predictions(test_df, forest)\n",
    "accuracy_score(predictions, test_df.label)"
   ]
  },
  {
   "cell_type": "code",
   "execution_count": 11,
   "metadata": {},
   "outputs": [
    {
     "data": {
      "text/html": [
       "<div>\n",
       "<style scoped>\n",
       "    .dataframe tbody tr th:only-of-type {\n",
       "        vertical-align: middle;\n",
       "    }\n",
       "\n",
       "    .dataframe tbody tr th {\n",
       "        vertical-align: top;\n",
       "    }\n",
       "\n",
       "    .dataframe thead th {\n",
       "        text-align: right;\n",
       "    }\n",
       "</style>\n",
       "<table border=\"1\" class=\"dataframe\">\n",
       "  <thead>\n",
       "    <tr style=\"text-align: right;\">\n",
       "      <th></th>\n",
       "      <th>Age</th>\n",
       "      <th>Shape</th>\n",
       "      <th>Margin</th>\n",
       "      <th>Density</th>\n",
       "      <th>label</th>\n",
       "    </tr>\n",
       "  </thead>\n",
       "  <tbody>\n",
       "    <tr>\n",
       "      <th>864</th>\n",
       "      <td>55</td>\n",
       "      <td>4</td>\n",
       "      <td>4</td>\n",
       "      <td>3</td>\n",
       "      <td>1</td>\n",
       "    </tr>\n",
       "    <tr>\n",
       "      <th>394</th>\n",
       "      <td>34</td>\n",
       "      <td>?</td>\n",
       "      <td>?</td>\n",
       "      <td>4</td>\n",
       "      <td>0</td>\n",
       "    </tr>\n",
       "    <tr>\n",
       "      <th>776</th>\n",
       "      <td>44</td>\n",
       "      <td>2</td>\n",
       "      <td>1</td>\n",
       "      <td>3</td>\n",
       "      <td>0</td>\n",
       "    </tr>\n",
       "    <tr>\n",
       "      <th>911</th>\n",
       "      <td>35</td>\n",
       "      <td>1</td>\n",
       "      <td>1</td>\n",
       "      <td>3</td>\n",
       "      <td>0</td>\n",
       "    </tr>\n",
       "    <tr>\n",
       "      <th>430</th>\n",
       "      <td>37</td>\n",
       "      <td>1</td>\n",
       "      <td>1</td>\n",
       "      <td>3</td>\n",
       "      <td>0</td>\n",
       "    </tr>\n",
       "  </tbody>\n",
       "</table>\n",
       "</div>"
      ],
      "text/plain": [
       "    Age Shape Margin Density  label\n",
       "864  55     4      4       3      1\n",
       "394  34     ?      ?       4      0\n",
       "776  44     2      1       3      0\n",
       "911  35     1      1       3      0\n",
       "430  37     1      1       3      0"
      ]
     },
     "execution_count": 11,
     "metadata": {},
     "output_type": "execute_result"
    }
   ],
   "source": [
    "test_df.head()"
   ]
  },
  {
   "cell_type": "code",
   "execution_count": 12,
   "metadata": {},
   "outputs": [
    {
     "name": "stdout",
     "output_type": "stream",
     "text": [
      "91.29447200499999\n"
     ]
    }
   ],
   "source": [
    "import timeit\n",
    "tic=timeit.default_timer()\n",
    "Accuracy = []\n",
    "x = [50,100,150,200,250,300,350,400,450,500]\n",
    "for i in x:\n",
    "    forest = random_forest_algorithm(train_df, n_trees=60, n_bootstrap=i, n_features=5, dt_max_depth=10)\n",
    "    predictions = random_forest_predictions(test_df, forest)\n",
    "    Accuracy.append(accuracy_score(predictions, test_df.label))\n",
    "\n",
    "toc=timeit.default_timer()\n",
    "print(toc - tic)\n",
    "\n"
   ]
  },
  {
   "cell_type": "code",
   "execution_count": 13,
   "metadata": {},
   "outputs": [],
   "source": [
    "index_accuracies = np.arange(1,21)\n",
    "column_name=[\"Accuracy\"]\n",
    "df_result = pd.DataFrame({'Accuracies':Accuracy})"
   ]
  },
  {
   "cell_type": "code",
   "execution_count": 14,
   "metadata": {},
   "outputs": [
    {
     "data": {
      "image/png": "[encoded data removed]",
      "text/plain": [
       "<Figure size 432x288 with 1 Axes>"
      ]
     },
     "metadata": {
      "needs_background": "light"
     },
     "output_type": "display_data"
    }
   ],
   "source": [
    "plt.plot(x,df_result[\"Accuracies\"],'r',marker='o') # 'r' is the color red\n",
    "plt.xlabel('Number of Bootstrapped data')\n",
    "plt.ylabel('Accuracy Score')\n",
    "plt.title('Accuracy vs Bootstrapping')\n",
    "plt.grid(True)\n",
    "plt.xticks(x)\n",
    "plt.show()"
   ]
  },
  {
   "cell_type": "code",
   "execution_count": null,
   "metadata": {},
   "outputs": [],
   "source": []
  }
 ],
 "metadata": {
  "kernelspec": {
   "display_name": "Python 3",
   "language": "python",
   "name": "python3"
  },
  "language_info": {
   "codemirror_mode": {
    "name": "ipython",
    "version": 3
   },
   "file_extension": ".py",
   "mimetype": "text/x-python",
   "name": "python",
   "nbconvert_exporter": "python",
   "pygments_lexer": "ipython3",
   "version": "3.7.3"
  }
 },
 "nbformat": 4,
 "nbformat_minor": 2
}
